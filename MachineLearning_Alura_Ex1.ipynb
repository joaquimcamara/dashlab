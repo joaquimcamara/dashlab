{
  "nbformat": 4,
  "nbformat_minor": 0,
  "metadata": {
    "colab": {
      "provenance": [],
      "authorship_tag": "ABX9TyNWt4TxPZMAT+aDADiUg7w5",
      "include_colab_link": true
    },
    "kernelspec": {
      "name": "python3",
      "display_name": "Python 3"
    },
    "language_info": {
      "name": "python"
    }
  },
  "cells": [
    {
      "cell_type": "markdown",
      "metadata": {
        "id": "view-in-github",
        "colab_type": "text"
      },
      "source": [
        "<a href=\"https://colab.research.google.com/github/joaquimcamara/dashlab/blob/Machine_Learning/MachineLearning_Alura_Ex1.ipynb\" target=\"_parent\"><img src=\"https://colab.research.google.com/assets/colab-badge.svg\" alt=\"Open In Colab\"/></a>"
      ]
    },
    {
      "cell_type": "code",
      "execution_count": null,
      "metadata": {
        "id": "IgQkrd8t52SL"
      },
      "outputs": [],
      "source": [
        "#features\n",
        "  #pelo longo (1 sim 0 não)\n",
        "  #pelo curto (1 sim 0 não)\n",
        "  #perna longa (1 sim 0 não)\n",
        "  #perna curta (1 sim 0 não)\n",
        "  #faz auau? (1 sim 0 não)\n",
        "\n",
        "porco1 = [0, 1, 0]\n",
        "porco2 = [0, 1, 1]\n",
        "porco3 = [1, 1, 0]\n",
        "\n",
        "cachorro1 = [0, 1, 1]\n",
        "cachorro2 = [1, 0, 1]\n",
        "cachorro3 = [1, 1, 1]\n",
        "\n",
        "#1 => porco, 0 => 0\n",
        "treino_x = [porco1, porco2, porco3, cachorro1, cachorro2, cachorro3]\n",
        "treino_y = [1,1,1,0,0,0]\n",
        "#f(x) = y => f(train_x) = train_y\n",
        "#classes são chamadas de etiquetas (labels)"
      ]
    },
    {
      "cell_type": "code",
      "source": [
        "from sklearn.svm import LinearSVC\n",
        "\n",
        "model = LinearSVC()\n",
        "model.fit(treino_x, treino_y)\n"
      ],
      "metadata": {
        "colab": {
          "base_uri": "https://localhost:8080/"
        },
        "id": "kRmYoXx97tXh",
        "outputId": "9655a8a7-0ae4-4dba-c995-4af43afc461a"
      },
      "execution_count": null,
      "outputs": [
        {
          "output_type": "execute_result",
          "data": {
            "text/plain": [
              "LinearSVC()"
            ]
          },
          "metadata": {},
          "execution_count": 21
        }
      ]
    },
    {
      "cell_type": "code",
      "source": [
        "animal_misterioso = [1,1,1]\n",
        "model.predict([animal_misterioso])\n"
      ],
      "metadata": {
        "colab": {
          "base_uri": "https://localhost:8080/"
        },
        "id": "MV1ixWpO89A2",
        "outputId": "1e6e2312-9ab5-4724-8a3c-a2fc85cb019b"
      },
      "execution_count": null,
      "outputs": [
        {
          "output_type": "stream",
          "name": "stdout",
          "text": [
            "cachorro\n"
          ]
        }
      ]
    },
    {
      "cell_type": "code",
      "source": [
        "misterio1 = [1,1,1]\n",
        "misterio2 = [1,1,0]\n",
        "misterio3 = [0,1,1]\n",
        "\n",
        "teste_x = [misterio1, misterio2, misterio3]\n",
        "\n",
        "previsões = model.predict(teste_x)\n",
        "teste_y = [0, 1, 1]"
      ],
      "metadata": {
        "id": "QTREbzIW927I"
      },
      "execution_count": null,
      "outputs": []
    },
    {
      "cell_type": "code",
      "source": [
        "corretos = (previsões == teste_y).sum() #o simbolo '==' realiza a comparação item a item retornando true ou false\n",
        "totais = len(teste_x)\n",
        "\n",
        "acurácia = corretos/totais"
      ],
      "metadata": {
        "id": "MRncLMCJ-8zf"
      },
      "execution_count": null,
      "outputs": []
    },
    {
      "cell_type": "code",
      "source": [
        "print(acurácia*100)"
      ],
      "metadata": {
        "colab": {
          "base_uri": "https://localhost:8080/"
        },
        "id": "pIl2LFdA_lTi",
        "outputId": "b35382bc-27a3-47a6-cf8f-092b1dbe65aa"
      },
      "execution_count": null,
      "outputs": [
        {
          "output_type": "stream",
          "name": "stdout",
          "text": [
            "66.66666666666666\n"
          ]
        }
      ]
    },
    {
      "cell_type": "code",
      "source": [
        "from sklearn.metrics import accuracy_score\n",
        "acurácia = accuracy_score(teste_y, previsões)\n",
        "print(acurácia*100)"
      ],
      "metadata": {
        "colab": {
          "base_uri": "https://localhost:8080/"
        },
        "id": "wbtZHt-gApnZ",
        "outputId": "a9d87dbc-1067-4a36-90de-48e584389f78"
      },
      "execution_count": null,
      "outputs": [
        {
          "output_type": "stream",
          "name": "stdout",
          "text": [
            "66.66666666666666\n"
          ]
        }
      ]
    },
    {
      "cell_type": "code",
      "source": [],
      "metadata": {
        "id": "TyIrKaIdBVEN"
      },
      "execution_count": null,
      "outputs": []
    }
  ]
}