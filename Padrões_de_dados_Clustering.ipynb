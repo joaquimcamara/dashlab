{
  "nbformat": 4,
  "nbformat_minor": 0,
  "metadata": {
    "colab": {
      "provenance": [],
      "authorship_tag": "ABX9TyM6fUj4w/4dJtBcVuy/r0Fw",
      "include_colab_link": true
    },
    "kernelspec": {
      "name": "python3",
      "display_name": "Python 3"
    },
    "language_info": {
      "name": "python"
    }
  },
  "cells": [
    {
      "cell_type": "markdown",
      "metadata": {
        "id": "view-in-github",
        "colab_type": "text"
      },
      "source": [
        "<a href=\"https://colab.research.google.com/github/joaquimcamara/dashlab/blob/main/Padr%C3%B5es_de_dados_Clustering.ipynb\" target=\"_parent\"><img src=\"https://colab.research.google.com/assets/colab-badge.svg\" alt=\"Open In Colab\"/></a>"
      ]
    },
    {
      "cell_type": "markdown",
      "source": [
        "# **IMPORTANDO E AVALIANDO** </br>\n",
        "Primeira avaliação."
      ],
      "metadata": {
        "id": "OKFIHRULw9hu"
      }
    },
    {
      "cell_type": "code",
      "execution_count": null,
      "metadata": {
        "id": "ocGoR9daA7pf"
      },
      "outputs": [],
      "source": [
        "import pandas as pd\n",
        "\n",
        "df = pd.read_csv('CC GENERAL.csv')"
      ]
    },
    {
      "cell_type": "code",
      "source": [
        "df.head()"
      ],
      "metadata": {
        "colab": {
          "base_uri": "https://localhost:8080/",
          "height": 270
        },
        "id": "SZEa6Tukwdo5",
        "outputId": "c0e2cdac-6d08-4f1c-d8ee-d0f6a4e49d57"
      },
      "execution_count": null,
      "outputs": [
        {
          "output_type": "execute_result",
          "data": {
            "text/plain": [
              "  CUST_ID      BALANCE  BALANCE_FREQUENCY  PURCHASES  ONEOFF_PURCHASES  \\\n",
              "0  C10001    40.900749           0.818182      95.40              0.00   \n",
              "1  C10002  3202.467416           0.909091       0.00              0.00   \n",
              "2  C10003  2495.148862           1.000000     773.17            773.17   \n",
              "3  C10004  1666.670542           0.636364    1499.00           1499.00   \n",
              "4  C10005   817.714335           1.000000      16.00             16.00   \n",
              "\n",
              "   INSTALLMENTS_PURCHASES  CASH_ADVANCE  PURCHASES_FREQUENCY  \\\n",
              "0                    95.4      0.000000             0.166667   \n",
              "1                     0.0   6442.945483             0.000000   \n",
              "2                     0.0      0.000000             1.000000   \n",
              "3                     0.0    205.788017             0.083333   \n",
              "4                     0.0      0.000000             0.083333   \n",
              "\n",
              "   ONEOFF_PURCHASES_FREQUENCY  PURCHASES_INSTALLMENTS_FREQUENCY  \\\n",
              "0                    0.000000                          0.083333   \n",
              "1                    0.000000                          0.000000   \n",
              "2                    1.000000                          0.000000   \n",
              "3                    0.083333                          0.000000   \n",
              "4                    0.083333                          0.000000   \n",
              "\n",
              "   CASH_ADVANCE_FREQUENCY  CASH_ADVANCE_TRX  PURCHASES_TRX  CREDIT_LIMIT  \\\n",
              "0                0.000000                 0              2        1000.0   \n",
              "1                0.250000                 4              0        7000.0   \n",
              "2                0.000000                 0             12        7500.0   \n",
              "3                0.083333                 1              1        7500.0   \n",
              "4                0.000000                 0              1        1200.0   \n",
              "\n",
              "      PAYMENTS  MINIMUM_PAYMENTS  PRC_FULL_PAYMENT  TENURE  \n",
              "0   201.802084        139.509787          0.000000      12  \n",
              "1  4103.032597       1072.340217          0.222222      12  \n",
              "2   622.066742        627.284787          0.000000      12  \n",
              "3     0.000000               NaN          0.000000      12  \n",
              "4   678.334763        244.791237          0.000000      12  "
            ],
            "text/html": [
              "\n",
              "  <div id=\"df-4a32ab02-8cb3-44b5-8202-6252bd5312d7\">\n",
              "    <div class=\"colab-df-container\">\n",
              "      <div>\n",
              "<style scoped>\n",
              "    .dataframe tbody tr th:only-of-type {\n",
              "        vertical-align: middle;\n",
              "    }\n",
              "\n",
              "    .dataframe tbody tr th {\n",
              "        vertical-align: top;\n",
              "    }\n",
              "\n",
              "    .dataframe thead th {\n",
              "        text-align: right;\n",
              "    }\n",
              "</style>\n",
              "<table border=\"1\" class=\"dataframe\">\n",
              "  <thead>\n",
              "    <tr style=\"text-align: right;\">\n",
              "      <th></th>\n",
              "      <th>CUST_ID</th>\n",
              "      <th>BALANCE</th>\n",
              "      <th>BALANCE_FREQUENCY</th>\n",
              "      <th>PURCHASES</th>\n",
              "      <th>ONEOFF_PURCHASES</th>\n",
              "      <th>INSTALLMENTS_PURCHASES</th>\n",
              "      <th>CASH_ADVANCE</th>\n",
              "      <th>PURCHASES_FREQUENCY</th>\n",
              "      <th>ONEOFF_PURCHASES_FREQUENCY</th>\n",
              "      <th>PURCHASES_INSTALLMENTS_FREQUENCY</th>\n",
              "      <th>CASH_ADVANCE_FREQUENCY</th>\n",
              "      <th>CASH_ADVANCE_TRX</th>\n",
              "      <th>PURCHASES_TRX</th>\n",
              "      <th>CREDIT_LIMIT</th>\n",
              "      <th>PAYMENTS</th>\n",
              "      <th>MINIMUM_PAYMENTS</th>\n",
              "      <th>PRC_FULL_PAYMENT</th>\n",
              "      <th>TENURE</th>\n",
              "    </tr>\n",
              "  </thead>\n",
              "  <tbody>\n",
              "    <tr>\n",
              "      <th>0</th>\n",
              "      <td>C10001</td>\n",
              "      <td>40.900749</td>\n",
              "      <td>0.818182</td>\n",
              "      <td>95.40</td>\n",
              "      <td>0.00</td>\n",
              "      <td>95.4</td>\n",
              "      <td>0.000000</td>\n",
              "      <td>0.166667</td>\n",
              "      <td>0.000000</td>\n",
              "      <td>0.083333</td>\n",
              "      <td>0.000000</td>\n",
              "      <td>0</td>\n",
              "      <td>2</td>\n",
              "      <td>1000.0</td>\n",
              "      <td>201.802084</td>\n",
              "      <td>139.509787</td>\n",
              "      <td>0.000000</td>\n",
              "      <td>12</td>\n",
              "    </tr>\n",
              "    <tr>\n",
              "      <th>1</th>\n",
              "      <td>C10002</td>\n",
              "      <td>3202.467416</td>\n",
              "      <td>0.909091</td>\n",
              "      <td>0.00</td>\n",
              "      <td>0.00</td>\n",
              "      <td>0.0</td>\n",
              "      <td>6442.945483</td>\n",
              "      <td>0.000000</td>\n",
              "      <td>0.000000</td>\n",
              "      <td>0.000000</td>\n",
              "      <td>0.250000</td>\n",
              "      <td>4</td>\n",
              "      <td>0</td>\n",
              "      <td>7000.0</td>\n",
              "      <td>4103.032597</td>\n",
              "      <td>1072.340217</td>\n",
              "      <td>0.222222</td>\n",
              "      <td>12</td>\n",
              "    </tr>\n",
              "    <tr>\n",
              "      <th>2</th>\n",
              "      <td>C10003</td>\n",
              "      <td>2495.148862</td>\n",
              "      <td>1.000000</td>\n",
              "      <td>773.17</td>\n",
              "      <td>773.17</td>\n",
              "      <td>0.0</td>\n",
              "      <td>0.000000</td>\n",
              "      <td>1.000000</td>\n",
              "      <td>1.000000</td>\n",
              "      <td>0.000000</td>\n",
              "      <td>0.000000</td>\n",
              "      <td>0</td>\n",
              "      <td>12</td>\n",
              "      <td>7500.0</td>\n",
              "      <td>622.066742</td>\n",
              "      <td>627.284787</td>\n",
              "      <td>0.000000</td>\n",
              "      <td>12</td>\n",
              "    </tr>\n",
              "    <tr>\n",
              "      <th>3</th>\n",
              "      <td>C10004</td>\n",
              "      <td>1666.670542</td>\n",
              "      <td>0.636364</td>\n",
              "      <td>1499.00</td>\n",
              "      <td>1499.00</td>\n",
              "      <td>0.0</td>\n",
              "      <td>205.788017</td>\n",
              "      <td>0.083333</td>\n",
              "      <td>0.083333</td>\n",
              "      <td>0.000000</td>\n",
              "      <td>0.083333</td>\n",
              "      <td>1</td>\n",
              "      <td>1</td>\n",
              "      <td>7500.0</td>\n",
              "      <td>0.000000</td>\n",
              "      <td>NaN</td>\n",
              "      <td>0.000000</td>\n",
              "      <td>12</td>\n",
              "    </tr>\n",
              "    <tr>\n",
              "      <th>4</th>\n",
              "      <td>C10005</td>\n",
              "      <td>817.714335</td>\n",
              "      <td>1.000000</td>\n",
              "      <td>16.00</td>\n",
              "      <td>16.00</td>\n",
              "      <td>0.0</td>\n",
              "      <td>0.000000</td>\n",
              "      <td>0.083333</td>\n",
              "      <td>0.083333</td>\n",
              "      <td>0.000000</td>\n",
              "      <td>0.000000</td>\n",
              "      <td>0</td>\n",
              "      <td>1</td>\n",
              "      <td>1200.0</td>\n",
              "      <td>678.334763</td>\n",
              "      <td>244.791237</td>\n",
              "      <td>0.000000</td>\n",
              "      <td>12</td>\n",
              "    </tr>\n",
              "  </tbody>\n",
              "</table>\n",
              "</div>\n",
              "      <button class=\"colab-df-convert\" onclick=\"convertToInteractive('df-4a32ab02-8cb3-44b5-8202-6252bd5312d7')\"\n",
              "              title=\"Convert this dataframe to an interactive table.\"\n",
              "              style=\"display:none;\">\n",
              "        \n",
              "  <svg xmlns=\"http://www.w3.org/2000/svg\" height=\"24px\"viewBox=\"0 0 24 24\"\n",
              "       width=\"24px\">\n",
              "    <path d=\"M0 0h24v24H0V0z\" fill=\"none\"/>\n",
              "    <path d=\"M18.56 5.44l.94 2.06.94-2.06 2.06-.94-2.06-.94-.94-2.06-.94 2.06-2.06.94zm-11 1L8.5 8.5l.94-2.06 2.06-.94-2.06-.94L8.5 2.5l-.94 2.06-2.06.94zm10 10l.94 2.06.94-2.06 2.06-.94-2.06-.94-.94-2.06-.94 2.06-2.06.94z\"/><path d=\"M17.41 7.96l-1.37-1.37c-.4-.4-.92-.59-1.43-.59-.52 0-1.04.2-1.43.59L10.3 9.45l-7.72 7.72c-.78.78-.78 2.05 0 2.83L4 21.41c.39.39.9.59 1.41.59.51 0 1.02-.2 1.41-.59l7.78-7.78 2.81-2.81c.8-.78.8-2.07 0-2.86zM5.41 20L4 18.59l7.72-7.72 1.47 1.35L5.41 20z\"/>\n",
              "  </svg>\n",
              "      </button>\n",
              "      \n",
              "  <style>\n",
              "    .colab-df-container {\n",
              "      display:flex;\n",
              "      flex-wrap:wrap;\n",
              "      gap: 12px;\n",
              "    }\n",
              "\n",
              "    .colab-df-convert {\n",
              "      background-color: #E8F0FE;\n",
              "      border: none;\n",
              "      border-radius: 50%;\n",
              "      cursor: pointer;\n",
              "      display: none;\n",
              "      fill: #1967D2;\n",
              "      height: 32px;\n",
              "      padding: 0 0 0 0;\n",
              "      width: 32px;\n",
              "    }\n",
              "\n",
              "    .colab-df-convert:hover {\n",
              "      background-color: #E2EBFA;\n",
              "      box-shadow: 0px 1px 2px rgba(60, 64, 67, 0.3), 0px 1px 3px 1px rgba(60, 64, 67, 0.15);\n",
              "      fill: #174EA6;\n",
              "    }\n",
              "\n",
              "    [theme=dark] .colab-df-convert {\n",
              "      background-color: #3B4455;\n",
              "      fill: #D2E3FC;\n",
              "    }\n",
              "\n",
              "    [theme=dark] .colab-df-convert:hover {\n",
              "      background-color: #434B5C;\n",
              "      box-shadow: 0px 1px 3px 1px rgba(0, 0, 0, 0.15);\n",
              "      filter: drop-shadow(0px 1px 2px rgba(0, 0, 0, 0.3));\n",
              "      fill: #FFFFFF;\n",
              "    }\n",
              "  </style>\n",
              "\n",
              "      <script>\n",
              "        const buttonEl =\n",
              "          document.querySelector('#df-4a32ab02-8cb3-44b5-8202-6252bd5312d7 button.colab-df-convert');\n",
              "        buttonEl.style.display =\n",
              "          google.colab.kernel.accessAllowed ? 'block' : 'none';\n",
              "\n",
              "        async function convertToInteractive(key) {\n",
              "          const element = document.querySelector('#df-4a32ab02-8cb3-44b5-8202-6252bd5312d7');\n",
              "          const dataTable =\n",
              "            await google.colab.kernel.invokeFunction('convertToInteractive',\n",
              "                                                     [key], {});\n",
              "          if (!dataTable) return;\n",
              "\n",
              "          const docLinkHtml = 'Like what you see? Visit the ' +\n",
              "            '<a target=\"_blank\" href=https://colab.research.google.com/notebooks/data_table.ipynb>data table notebook</a>'\n",
              "            + ' to learn more about interactive tables.';\n",
              "          element.innerHTML = '';\n",
              "          dataTable['output_type'] = 'display_data';\n",
              "          await google.colab.output.renderOutput(dataTable, element);\n",
              "          const docLink = document.createElement('div');\n",
              "          docLink.innerHTML = docLinkHtml;\n",
              "          element.appendChild(docLink);\n",
              "        }\n",
              "      </script>\n",
              "    </div>\n",
              "  </div>\n",
              "  "
            ]
          },
          "metadata": {},
          "execution_count": 2
        }
      ]
    },
    {
      "cell_type": "markdown",
      "source": [
        "#**ORGANIZANDO OS DADOS**"
      ],
      "metadata": {
        "id": "HW2e-YfpxQRh"
      }
    },
    {
      "cell_type": "code",
      "source": [
        "df.drop(columns=['CUST_ID','TENURE'], inplace = True) #inplace nos permite modificar esse dataframe, sem criar outro"
      ],
      "metadata": {
        "id": "WgL_3Viuwgb2"
      },
      "execution_count": null,
      "outputs": []
    },
    {
      "cell_type": "code",
      "source": [
        "#Procurando os nulos\n",
        "missing = df.isna().sum()\n",
        "missing"
      ],
      "metadata": {
        "colab": {
          "base_uri": "https://localhost:8080/"
        },
        "id": "_bs1eaiiwnsS",
        "outputId": "6aa94470-945a-46c2-bbe4-9bfec6121fd5"
      },
      "execution_count": null,
      "outputs": [
        {
          "output_type": "execute_result",
          "data": {
            "text/plain": [
              "BALANCE                               0\n",
              "BALANCE_FREQUENCY                     0\n",
              "PURCHASES                             0\n",
              "ONEOFF_PURCHASES                      0\n",
              "INSTALLMENTS_PURCHASES                0\n",
              "CASH_ADVANCE                          0\n",
              "PURCHASES_FREQUENCY                   0\n",
              "ONEOFF_PURCHASES_FREQUENCY            0\n",
              "PURCHASES_INSTALLMENTS_FREQUENCY      0\n",
              "CASH_ADVANCE_FREQUENCY                0\n",
              "CASH_ADVANCE_TRX                      0\n",
              "PURCHASES_TRX                         0\n",
              "CREDIT_LIMIT                          1\n",
              "PAYMENTS                              0\n",
              "MINIMUM_PAYMENTS                    313\n",
              "PRC_FULL_PAYMENT                      0\n",
              "dtype: int64"
            ]
          },
          "metadata": {},
          "execution_count": 4
        }
      ]
    },
    {
      "cell_type": "code",
      "source": [
        "#Fazendo a mediana dos valores presentes para substituir os faltantes\n",
        "df.fillna(df.median(), inplace = True)\n",
        "missing = df.isna().sum()\n",
        "missing"
      ],
      "metadata": {
        "colab": {
          "base_uri": "https://localhost:8080/"
        },
        "id": "xM0n14SsyI7c",
        "outputId": "3efa454c-5c09-4971-c786-2a7b857dd2bd"
      },
      "execution_count": null,
      "outputs": [
        {
          "output_type": "execute_result",
          "data": {
            "text/plain": [
              "BALANCE                             0\n",
              "BALANCE_FREQUENCY                   0\n",
              "PURCHASES                           0\n",
              "ONEOFF_PURCHASES                    0\n",
              "INSTALLMENTS_PURCHASES              0\n",
              "CASH_ADVANCE                        0\n",
              "PURCHASES_FREQUENCY                 0\n",
              "ONEOFF_PURCHASES_FREQUENCY          0\n",
              "PURCHASES_INSTALLMENTS_FREQUENCY    0\n",
              "CASH_ADVANCE_FREQUENCY              0\n",
              "CASH_ADVANCE_TRX                    0\n",
              "PURCHASES_TRX                       0\n",
              "CREDIT_LIMIT                        0\n",
              "PAYMENTS                            0\n",
              "MINIMUM_PAYMENTS                    0\n",
              "PRC_FULL_PAYMENT                    0\n",
              "dtype: int64"
            ]
          },
          "metadata": {},
          "execution_count": 5
        }
      ]
    },
    {
      "cell_type": "markdown",
      "source": [
        "**NORMALIZANDO OS DADOS**"
      ],
      "metadata": {
        "id": "B13A5tzDyx_X"
      }
    },
    {
      "cell_type": "code",
      "source": [
        "from sklearn.preprocessing import Normalizer\n",
        "values = Normalizer().fit_transform(df.values)\n",
        "colunas = df.columns\n",
        "df1 = pd.DataFrame(values, columns=colunas)\n",
        "df1"
      ],
      "metadata": {
        "colab": {
          "base_uri": "https://localhost:8080/",
          "height": 488
        },
        "id": "UhE-oqmYyrXN",
        "outputId": "d69f2bb0-00a6-4a1f-9486-a20a3e7a1d69"
      },
      "execution_count": null,
      "outputs": [
        {
          "output_type": "execute_result",
          "data": {
            "text/plain": [
              "       BALANCE  BALANCE_FREQUENCY  PURCHASES  ONEOFF_PURCHASES  \\\n",
              "0     0.039356           0.000787   0.091796          0.000000   \n",
              "1     0.293876           0.000083   0.000000          0.000000   \n",
              "2     0.310798           0.000125   0.096307          0.096307   \n",
              "3     0.208887           0.000080   0.187872          0.187872   \n",
              "4     0.504298           0.000617   0.009867          0.009867   \n",
              "...        ...                ...        ...               ...   \n",
              "8945  0.025197           0.000884   0.257441          0.000000   \n",
              "8946  0.016485           0.000859   0.257811          0.000000   \n",
              "8947  0.022773           0.000811   0.140541          0.000000   \n",
              "8948  0.026526           0.001643   0.000000          0.000000   \n",
              "8949  0.186406           0.000333   0.546778          0.546778   \n",
              "\n",
              "      INSTALLMENTS_PURCHASES  CASH_ADVANCE  PURCHASES_FREQUENCY  \\\n",
              "0                   0.091796      0.000000             0.000160   \n",
              "1                   0.000000      0.591240             0.000000   \n",
              "2                   0.000000      0.000000             0.000125   \n",
              "3                   0.000000      0.025792             0.000010   \n",
              "4                   0.000000      0.000000             0.000051   \n",
              "...                      ...           ...                  ...   \n",
              "8945                0.257441      0.000000             0.000884   \n",
              "8946                0.257811      0.000000             0.000859   \n",
              "8947                0.140541      0.000000             0.000811   \n",
              "8948                0.000000      0.072060             0.000000   \n",
              "8949                0.000000      0.063538             0.000333   \n",
              "\n",
              "      ONEOFF_PURCHASES_FREQUENCY  PURCHASES_INSTALLMENTS_FREQUENCY  \\\n",
              "0                       0.000000                          0.000080   \n",
              "1                       0.000000                          0.000000   \n",
              "2                       0.000125                          0.000000   \n",
              "3                       0.000010                          0.000000   \n",
              "4                       0.000051                          0.000000   \n",
              "...                          ...                               ...   \n",
              "8945                    0.000000                          0.000737   \n",
              "8946                    0.000000                          0.000716   \n",
              "8947                    0.000000                          0.000649   \n",
              "8948                    0.000000                          0.000000   \n",
              "8949                    0.000333                          0.000000   \n",
              "\n",
              "      CASH_ADVANCE_FREQUENCY  CASH_ADVANCE_TRX  PURCHASES_TRX  CREDIT_LIMIT  \\\n",
              "0                   0.000000          0.000000       0.001924      0.962221   \n",
              "1                   0.000023          0.000367       0.000000      0.642358   \n",
              "2                   0.000000          0.000000       0.001495      0.934207   \n",
              "3                   0.000010          0.000125       0.000125      0.939988   \n",
              "4                   0.000000          0.000000       0.000617      0.740060   \n",
              "...                      ...               ...            ...           ...   \n",
              "8945                0.000000          0.000000       0.005306      0.884314   \n",
              "8946                0.000000          0.000000       0.005156      0.859370   \n",
              "8947                0.000000          0.000000       0.004866      0.973274   \n",
              "8948                0.000329          0.003942       0.000000      0.985535   \n",
              "8949                0.000167          0.001000       0.011503      0.600168   \n",
              "\n",
              "      PAYMENTS  MINIMUM_PAYMENTS  PRC_FULL_PAYMENT  \n",
              "0     0.194178          0.134239          0.000000  \n",
              "1     0.376517          0.098404          0.000020  \n",
              "2     0.077485          0.078135          0.000000  \n",
              "3     0.000000          0.039147          0.000000  \n",
              "4     0.418340          0.150967          0.000000  \n",
              "...        ...               ...               ...  \n",
              "8945  0.287928          0.043231          0.000442  \n",
              "8946  0.237067          0.268419          0.000000  \n",
              "8947  0.079099          0.080216          0.000243  \n",
              "8948  0.103580          0.109898          0.000493  \n",
              "8949  0.031592          0.044157          0.000000  \n",
              "\n",
              "[8950 rows x 16 columns]"
            ],
            "text/html": [
              "\n",
              "  <div id=\"df-a36e1d5a-46fd-4058-a30d-3e1a20636801\">\n",
              "    <div class=\"colab-df-container\">\n",
              "      <div>\n",
              "<style scoped>\n",
              "    .dataframe tbody tr th:only-of-type {\n",
              "        vertical-align: middle;\n",
              "    }\n",
              "\n",
              "    .dataframe tbody tr th {\n",
              "        vertical-align: top;\n",
              "    }\n",
              "\n",
              "    .dataframe thead th {\n",
              "        text-align: right;\n",
              "    }\n",
              "</style>\n",
              "<table border=\"1\" class=\"dataframe\">\n",
              "  <thead>\n",
              "    <tr style=\"text-align: right;\">\n",
              "      <th></th>\n",
              "      <th>BALANCE</th>\n",
              "      <th>BALANCE_FREQUENCY</th>\n",
              "      <th>PURCHASES</th>\n",
              "      <th>ONEOFF_PURCHASES</th>\n",
              "      <th>INSTALLMENTS_PURCHASES</th>\n",
              "      <th>CASH_ADVANCE</th>\n",
              "      <th>PURCHASES_FREQUENCY</th>\n",
              "      <th>ONEOFF_PURCHASES_FREQUENCY</th>\n",
              "      <th>PURCHASES_INSTALLMENTS_FREQUENCY</th>\n",
              "      <th>CASH_ADVANCE_FREQUENCY</th>\n",
              "      <th>CASH_ADVANCE_TRX</th>\n",
              "      <th>PURCHASES_TRX</th>\n",
              "      <th>CREDIT_LIMIT</th>\n",
              "      <th>PAYMENTS</th>\n",
              "      <th>MINIMUM_PAYMENTS</th>\n",
              "      <th>PRC_FULL_PAYMENT</th>\n",
              "    </tr>\n",
              "  </thead>\n",
              "  <tbody>\n",
              "    <tr>\n",
              "      <th>0</th>\n",
              "      <td>0.039356</td>\n",
              "      <td>0.000787</td>\n",
              "      <td>0.091796</td>\n",
              "      <td>0.000000</td>\n",
              "      <td>0.091796</td>\n",
              "      <td>0.000000</td>\n",
              "      <td>0.000160</td>\n",
              "      <td>0.000000</td>\n",
              "      <td>0.000080</td>\n",
              "      <td>0.000000</td>\n",
              "      <td>0.000000</td>\n",
              "      <td>0.001924</td>\n",
              "      <td>0.962221</td>\n",
              "      <td>0.194178</td>\n",
              "      <td>0.134239</td>\n",
              "      <td>0.000000</td>\n",
              "    </tr>\n",
              "    <tr>\n",
              "      <th>1</th>\n",
              "      <td>0.293876</td>\n",
              "      <td>0.000083</td>\n",
              "      <td>0.000000</td>\n",
              "      <td>0.000000</td>\n",
              "      <td>0.000000</td>\n",
              "      <td>0.591240</td>\n",
              "      <td>0.000000</td>\n",
              "      <td>0.000000</td>\n",
              "      <td>0.000000</td>\n",
              "      <td>0.000023</td>\n",
              "      <td>0.000367</td>\n",
              "      <td>0.000000</td>\n",
              "      <td>0.642358</td>\n",
              "      <td>0.376517</td>\n",
              "      <td>0.098404</td>\n",
              "      <td>0.000020</td>\n",
              "    </tr>\n",
              "    <tr>\n",
              "      <th>2</th>\n",
              "      <td>0.310798</td>\n",
              "      <td>0.000125</td>\n",
              "      <td>0.096307</td>\n",
              "      <td>0.096307</td>\n",
              "      <td>0.000000</td>\n",
              "      <td>0.000000</td>\n",
              "      <td>0.000125</td>\n",
              "      <td>0.000125</td>\n",
              "      <td>0.000000</td>\n",
              "      <td>0.000000</td>\n",
              "      <td>0.000000</td>\n",
              "      <td>0.001495</td>\n",
              "      <td>0.934207</td>\n",
              "      <td>0.077485</td>\n",
              "      <td>0.078135</td>\n",
              "      <td>0.000000</td>\n",
              "    </tr>\n",
              "    <tr>\n",
              "      <th>3</th>\n",
              "      <td>0.208887</td>\n",
              "      <td>0.000080</td>\n",
              "      <td>0.187872</td>\n",
              "      <td>0.187872</td>\n",
              "      <td>0.000000</td>\n",
              "      <td>0.025792</td>\n",
              "      <td>0.000010</td>\n",
              "      <td>0.000010</td>\n",
              "      <td>0.000000</td>\n",
              "      <td>0.000010</td>\n",
              "      <td>0.000125</td>\n",
              "      <td>0.000125</td>\n",
              "      <td>0.939988</td>\n",
              "      <td>0.000000</td>\n",
              "      <td>0.039147</td>\n",
              "      <td>0.000000</td>\n",
              "    </tr>\n",
              "    <tr>\n",
              "      <th>4</th>\n",
              "      <td>0.504298</td>\n",
              "      <td>0.000617</td>\n",
              "      <td>0.009867</td>\n",
              "      <td>0.009867</td>\n",
              "      <td>0.000000</td>\n",
              "      <td>0.000000</td>\n",
              "      <td>0.000051</td>\n",
              "      <td>0.000051</td>\n",
              "      <td>0.000000</td>\n",
              "      <td>0.000000</td>\n",
              "      <td>0.000000</td>\n",
              "      <td>0.000617</td>\n",
              "      <td>0.740060</td>\n",
              "      <td>0.418340</td>\n",
              "      <td>0.150967</td>\n",
              "      <td>0.000000</td>\n",
              "    </tr>\n",
              "    <tr>\n",
              "      <th>...</th>\n",
              "      <td>...</td>\n",
              "      <td>...</td>\n",
              "      <td>...</td>\n",
              "      <td>...</td>\n",
              "      <td>...</td>\n",
              "      <td>...</td>\n",
              "      <td>...</td>\n",
              "      <td>...</td>\n",
              "      <td>...</td>\n",
              "      <td>...</td>\n",
              "      <td>...</td>\n",
              "      <td>...</td>\n",
              "      <td>...</td>\n",
              "      <td>...</td>\n",
              "      <td>...</td>\n",
              "      <td>...</td>\n",
              "    </tr>\n",
              "    <tr>\n",
              "      <th>8945</th>\n",
              "      <td>0.025197</td>\n",
              "      <td>0.000884</td>\n",
              "      <td>0.257441</td>\n",
              "      <td>0.000000</td>\n",
              "      <td>0.257441</td>\n",
              "      <td>0.000000</td>\n",
              "      <td>0.000884</td>\n",
              "      <td>0.000000</td>\n",
              "      <td>0.000737</td>\n",
              "      <td>0.000000</td>\n",
              "      <td>0.000000</td>\n",
              "      <td>0.005306</td>\n",
              "      <td>0.884314</td>\n",
              "      <td>0.287928</td>\n",
              "      <td>0.043231</td>\n",
              "      <td>0.000442</td>\n",
              "    </tr>\n",
              "    <tr>\n",
              "      <th>8946</th>\n",
              "      <td>0.016485</td>\n",
              "      <td>0.000859</td>\n",
              "      <td>0.257811</td>\n",
              "      <td>0.000000</td>\n",
              "      <td>0.257811</td>\n",
              "      <td>0.000000</td>\n",
              "      <td>0.000859</td>\n",
              "      <td>0.000000</td>\n",
              "      <td>0.000716</td>\n",
              "      <td>0.000000</td>\n",
              "      <td>0.000000</td>\n",
              "      <td>0.005156</td>\n",
              "      <td>0.859370</td>\n",
              "      <td>0.237067</td>\n",
              "      <td>0.268419</td>\n",
              "      <td>0.000000</td>\n",
              "    </tr>\n",
              "    <tr>\n",
              "      <th>8947</th>\n",
              "      <td>0.022773</td>\n",
              "      <td>0.000811</td>\n",
              "      <td>0.140541</td>\n",
              "      <td>0.000000</td>\n",
              "      <td>0.140541</td>\n",
              "      <td>0.000000</td>\n",
              "      <td>0.000811</td>\n",
              "      <td>0.000000</td>\n",
              "      <td>0.000649</td>\n",
              "      <td>0.000000</td>\n",
              "      <td>0.000000</td>\n",
              "      <td>0.004866</td>\n",
              "      <td>0.973274</td>\n",
              "      <td>0.079099</td>\n",
              "      <td>0.080216</td>\n",
              "      <td>0.000243</td>\n",
              "    </tr>\n",
              "    <tr>\n",
              "      <th>8948</th>\n",
              "      <td>0.026526</td>\n",
              "      <td>0.001643</td>\n",
              "      <td>0.000000</td>\n",
              "      <td>0.000000</td>\n",
              "      <td>0.000000</td>\n",
              "      <td>0.072060</td>\n",
              "      <td>0.000000</td>\n",
              "      <td>0.000000</td>\n",
              "      <td>0.000000</td>\n",
              "      <td>0.000329</td>\n",
              "      <td>0.003942</td>\n",
              "      <td>0.000000</td>\n",
              "      <td>0.985535</td>\n",
              "      <td>0.103580</td>\n",
              "      <td>0.109898</td>\n",
              "      <td>0.000493</td>\n",
              "    </tr>\n",
              "    <tr>\n",
              "      <th>8949</th>\n",
              "      <td>0.186406</td>\n",
              "      <td>0.000333</td>\n",
              "      <td>0.546778</td>\n",
              "      <td>0.546778</td>\n",
              "      <td>0.000000</td>\n",
              "      <td>0.063538</td>\n",
              "      <td>0.000333</td>\n",
              "      <td>0.000333</td>\n",
              "      <td>0.000000</td>\n",
              "      <td>0.000167</td>\n",
              "      <td>0.001000</td>\n",
              "      <td>0.011503</td>\n",
              "      <td>0.600168</td>\n",
              "      <td>0.031592</td>\n",
              "      <td>0.044157</td>\n",
              "      <td>0.000000</td>\n",
              "    </tr>\n",
              "  </tbody>\n",
              "</table>\n",
              "<p>8950 rows × 16 columns</p>\n",
              "</div>\n",
              "      <button class=\"colab-df-convert\" onclick=\"convertToInteractive('df-a36e1d5a-46fd-4058-a30d-3e1a20636801')\"\n",
              "              title=\"Convert this dataframe to an interactive table.\"\n",
              "              style=\"display:none;\">\n",
              "        \n",
              "  <svg xmlns=\"http://www.w3.org/2000/svg\" height=\"24px\"viewBox=\"0 0 24 24\"\n",
              "       width=\"24px\">\n",
              "    <path d=\"M0 0h24v24H0V0z\" fill=\"none\"/>\n",
              "    <path d=\"M18.56 5.44l.94 2.06.94-2.06 2.06-.94-2.06-.94-.94-2.06-.94 2.06-2.06.94zm-11 1L8.5 8.5l.94-2.06 2.06-.94-2.06-.94L8.5 2.5l-.94 2.06-2.06.94zm10 10l.94 2.06.94-2.06 2.06-.94-2.06-.94-.94-2.06-.94 2.06-2.06.94z\"/><path d=\"M17.41 7.96l-1.37-1.37c-.4-.4-.92-.59-1.43-.59-.52 0-1.04.2-1.43.59L10.3 9.45l-7.72 7.72c-.78.78-.78 2.05 0 2.83L4 21.41c.39.39.9.59 1.41.59.51 0 1.02-.2 1.41-.59l7.78-7.78 2.81-2.81c.8-.78.8-2.07 0-2.86zM5.41 20L4 18.59l7.72-7.72 1.47 1.35L5.41 20z\"/>\n",
              "  </svg>\n",
              "      </button>\n",
              "      \n",
              "  <style>\n",
              "    .colab-df-container {\n",
              "      display:flex;\n",
              "      flex-wrap:wrap;\n",
              "      gap: 12px;\n",
              "    }\n",
              "\n",
              "    .colab-df-convert {\n",
              "      background-color: #E8F0FE;\n",
              "      border: none;\n",
              "      border-radius: 50%;\n",
              "      cursor: pointer;\n",
              "      display: none;\n",
              "      fill: #1967D2;\n",
              "      height: 32px;\n",
              "      padding: 0 0 0 0;\n",
              "      width: 32px;\n",
              "    }\n",
              "\n",
              "    .colab-df-convert:hover {\n",
              "      background-color: #E2EBFA;\n",
              "      box-shadow: 0px 1px 2px rgba(60, 64, 67, 0.3), 0px 1px 3px 1px rgba(60, 64, 67, 0.15);\n",
              "      fill: #174EA6;\n",
              "    }\n",
              "\n",
              "    [theme=dark] .colab-df-convert {\n",
              "      background-color: #3B4455;\n",
              "      fill: #D2E3FC;\n",
              "    }\n",
              "\n",
              "    [theme=dark] .colab-df-convert:hover {\n",
              "      background-color: #434B5C;\n",
              "      box-shadow: 0px 1px 3px 1px rgba(0, 0, 0, 0.15);\n",
              "      filter: drop-shadow(0px 1px 2px rgba(0, 0, 0, 0.3));\n",
              "      fill: #FFFFFF;\n",
              "    }\n",
              "  </style>\n",
              "\n",
              "      <script>\n",
              "        const buttonEl =\n",
              "          document.querySelector('#df-a36e1d5a-46fd-4058-a30d-3e1a20636801 button.colab-df-convert');\n",
              "        buttonEl.style.display =\n",
              "          google.colab.kernel.accessAllowed ? 'block' : 'none';\n",
              "\n",
              "        async function convertToInteractive(key) {\n",
              "          const element = document.querySelector('#df-a36e1d5a-46fd-4058-a30d-3e1a20636801');\n",
              "          const dataTable =\n",
              "            await google.colab.kernel.invokeFunction('convertToInteractive',\n",
              "                                                     [key], {});\n",
              "          if (!dataTable) return;\n",
              "\n",
              "          const docLinkHtml = 'Like what you see? Visit the ' +\n",
              "            '<a target=\"_blank\" href=https://colab.research.google.com/notebooks/data_table.ipynb>data table notebook</a>'\n",
              "            + ' to learn more about interactive tables.';\n",
              "          element.innerHTML = '';\n",
              "          dataTable['output_type'] = 'display_data';\n",
              "          await google.colab.output.renderOutput(dataTable, element);\n",
              "          const docLink = document.createElement('div');\n",
              "          docLink.innerHTML = docLinkHtml;\n",
              "          element.appendChild(docLink);\n",
              "        }\n",
              "      </script>\n",
              "    </div>\n",
              "  </div>\n",
              "  "
            ]
          },
          "metadata": {},
          "execution_count": 6
        }
      ]
    },
    {
      "cell_type": "markdown",
      "source": [
        "#**INICIANDO A CLUSTERIZAÇÃO COM O KMEANS**"
      ],
      "metadata": {
        "id": "jEGjItNq0yEA"
      }
    },
    {
      "cell_type": "markdown",
      "source": [
        "Métricas de validação:\n",
        "*  Externas e Internas\n",
        "    *  Externas precisam de Labels e as Internas não precisam, são independentes de labels.\n",
        "*  Compactação: Quão próximos estão um ponto dentro do mesmo cluster.\n",
        "*  Separação: Quão bem separados estão os pontos em clusters diferentes.\n",
        "*  Coeficiente de Silhouette:\n",
        "                          S = (b-a)/max(a,b)\n",
        "                          a = distância média entre o ponto e todos os outros do cluster (Compactação)\n",
        "                          b = distância média entre o ponto e todos os outros pontos do cluster mais próximo\n",
        "*  Se Positivo, então tem um valor válido (no geral)"
      ],
      "metadata": {
        "id": "UIRNmTGC1Sji"
      }
    },
    {
      "cell_type": "code",
      "source": [
        "from sklearn.cluster import KMeans\n",
        "kmeans = KMeans(n_clusters=5, n_init=10, max_iter=300)\n",
        "y_pred = kmeans.fit_predict(values)"
      ],
      "metadata": {
        "id": "gKtUAQ0EzPdn"
      },
      "execution_count": null,
      "outputs": []
    },
    {
      "cell_type": "code",
      "source": [
        "from sklearn import metrics"
      ],
      "metadata": {
        "id": "weZuWHuW0tu-"
      },
      "execution_count": null,
      "outputs": []
    },
    {
      "cell_type": "code",
      "source": [
        "labels = kmeans.labels_\n",
        "silhouette = metrics.silhouette_score(values, labels, metric='euclidean')"
      ],
      "metadata": {
        "id": "18gDsd9B5_cS"
      },
      "execution_count": null,
      "outputs": []
    },
    {
      "cell_type": "code",
      "source": [
        "silhouette"
      ],
      "metadata": {
        "colab": {
          "base_uri": "https://localhost:8080/"
        },
        "id": "yptcnRw46QhV",
        "outputId": "c3362b20-5385-4ebb-dffa-2ebd7ab88d2b"
      },
      "execution_count": null,
      "outputs": [
        {
          "output_type": "execute_result",
          "data": {
            "text/plain": [
              "0.3644845919974304"
            ]
          },
          "metadata": {},
          "execution_count": 10
        }
      ]
    },
    {
      "cell_type": "markdown",
      "source": [
        "**Indíce de Davies-Bouldin**"
      ],
      "metadata": {
        "id": "VbCpzSaO6xXn"
      }
    },
    {
      "cell_type": "code",
      "source": [
        "dbs = metrics.davies_bouldin_score(values, labels)\n",
        "dbs #O mais próximo de zero possível"
      ],
      "metadata": {
        "colab": {
          "base_uri": "https://localhost:8080/"
        },
        "id": "V1Rhv_AA6T81",
        "outputId": "d56e4ac0-2bf5-4af7-ee30-cadc4abaf5be"
      },
      "execution_count": null,
      "outputs": [
        {
          "output_type": "execute_result",
          "data": {
            "text/plain": [
              "1.0757138590613295"
            ]
          },
          "metadata": {},
          "execution_count": 11
        }
      ]
    },
    {
      "cell_type": "markdown",
      "source": [
        "**Índice Calinsk-Harabasz**"
      ],
      "metadata": {
        "id": "Hs8-fc5f992H"
      }
    },
    {
      "cell_type": "code",
      "source": [
        "ch = metrics.calinski_harabasz_score(values, labels)\n",
        "ch #O mais alto possível"
      ],
      "metadata": {
        "colab": {
          "base_uri": "https://localhost:8080/"
        },
        "id": "KoFitx8l7guI",
        "outputId": "015fe54c-e938-4834-a80b-6677fe457bbb"
      },
      "execution_count": null,
      "outputs": [
        {
          "output_type": "execute_result",
          "data": {
            "text/plain": [
              "3431.79374284143"
            ]
          },
          "metadata": {},
          "execution_count": 12
        }
      ]
    },
    {
      "cell_type": "markdown",
      "source": [
        "#**Validando os clusters**"
      ],
      "metadata": {
        "id": "S889XNpWEMxE"
      }
    },
    {
      "cell_type": "markdown",
      "source": [
        "**Validação Relativa**"
      ],
      "metadata": {
        "id": "zrd_z4zGEaTE"
      }
    },
    {
      "cell_type": "code",
      "source": [
        "def clustering_algorithm(n_clusters, dataset):\n",
        "  kmeans = KMeans(n_clusters=n_clusters, n_init=10, max_iter=300)\n",
        "  labels = kmeans.fit_predict(dataset)\n",
        "  s = metrics.silhouette_score(dataset, labels, metric='euclidean')\n",
        "  dbs = metrics.davies_bouldin_score(dataset, labels)\n",
        "  ch = metrics.calinski_harabasz_score(dataset, labels)\n",
        "  return s, dbs, ch"
      ],
      "metadata": {
        "id": "gPlPnCmI-PH3"
      },
      "execution_count": null,
      "outputs": []
    },
    {
      "cell_type": "code",
      "source": [
        "s1, dbs1, ch1 = clustering_algorithm(3, values)\n",
        "s1, dbs1, ch1"
      ],
      "metadata": {
        "colab": {
          "base_uri": "https://localhost:8080/"
        },
        "id": "Xy4OunujFnwZ",
        "outputId": "96a0793e-12f1-4206-993a-5a2d5d4ab119"
      },
      "execution_count": null,
      "outputs": [
        {
          "output_type": "execute_result",
          "data": {
            "text/plain": [
              "(0.32724464582661594, 1.3093507662143309, 3526.466834451541)"
            ]
          },
          "metadata": {},
          "execution_count": 14
        }
      ]
    },
    {
      "cell_type": "code",
      "source": [
        "s2, dbs2, ch2 = clustering_algorithm(5, values)\n",
        "s2, dbs2, ch2"
      ],
      "metadata": {
        "colab": {
          "base_uri": "https://localhost:8080/"
        },
        "id": "8XseWDkFF1zh",
        "outputId": "e4f59caa-4cc3-4b89-a7ea-8aefda47bab9"
      },
      "execution_count": null,
      "outputs": [
        {
          "output_type": "execute_result",
          "data": {
            "text/plain": [
              "(0.36459833631826266, 1.0754516255078055, 3431.789575435624)"
            ]
          },
          "metadata": {},
          "execution_count": 16
        }
      ]
    },
    {
      "cell_type": "code",
      "source": [
        "s3, dbs3, ch3 = clustering_algorithm(10, values)\n",
        "s3, dbs3, ch3"
      ],
      "metadata": {
        "colab": {
          "base_uri": "https://localhost:8080/"
        },
        "id": "YxmqGlPPGACZ",
        "outputId": "1a3344bb-fb1b-4237-dc7d-4a571effdbf3"
      },
      "execution_count": null,
      "outputs": [
        {
          "output_type": "execute_result",
          "data": {
            "text/plain": [
              "(0.30685157228211374, 1.1445159400075267, 3018.101268802906)"
            ]
          },
          "metadata": {},
          "execution_count": 17
        }
      ]
    },
    {
      "cell_type": "code",
      "source": [
        "i = 2\n",
        "while i < 10:\n",
        "  sw, dbsw, chw = clustering_algorithm(i, values)\n",
        "  print('para i = ', i, sw, dbsw, chw)\n",
        "  i+=1"
      ],
      "metadata": {
        "colab": {
          "base_uri": "https://localhost:8080/"
        },
        "id": "2kDp_l8SGPyB",
        "outputId": "0b5eda04-8942-499c-a117-5e8d720b586e"
      },
      "execution_count": null,
      "outputs": [
        {
          "output_type": "stream",
          "name": "stdout",
          "text": [
            "para i =  2 0.29913992027435277 1.5180867343147846 3321.84635812273\n",
            "para i =  3 0.3271751306897884 1.3102638818385068 3526.456164575466\n",
            "para i =  4 0.3482575953242431 1.2212366810998647 3528.6954358649723\n",
            "para i =  5 0.36462155982900213 1.0752866066041349 3431.7836691936104\n",
            "para i =  6 0.36490241386590305 1.0452590368145118 3523.514161194325\n",
            "para i =  7 0.3277820965463256 1.150783539809126 3398.3950272683933\n",
            "para i =  8 0.30884184037734175 1.1747254271472631 3239.105051770773\n",
            "para i =  9 0.3063274575700443 1.2048221535976458 3106.5531908254557\n"
          ]
        }
      ]
    },
    {
      "cell_type": "markdown",
      "source": [
        "**Estrutra dos clusters** </br>\n",
        "Validando se nossos dados podem ser clusterizados"
      ],
      "metadata": {
        "id": "v35v3uH8Il5L"
      }
    },
    {
      "cell_type": "code",
      "source": [
        "#Gerando um conjunto aleatório de dados\n",
        "import numpy as np\n",
        "random_data = np.random.rand(8950, 16) #o método random já gera número aleatório entre 0 e 1\n",
        "s, dbs, ch = clustering_algorithm(5, random_data)\n",
        "s, dbs, ch"
      ],
      "metadata": {
        "colab": {
          "base_uri": "https://localhost:8080/"
        },
        "id": "YZsyv1eUGphN",
        "outputId": "9bd1d61a-88cc-4868-cdfb-cda43436f551"
      },
      "execution_count": null,
      "outputs": [
        {
          "output_type": "execute_result",
          "data": {
            "text/plain": [
              "(0.039155875288267826, 3.5486816022530085, 302.65325626384396)"
            ]
          },
          "metadata": {},
          "execution_count": 25
        }
      ]
    },
    {
      "cell_type": "markdown",
      "source": [
        "**Validando a estabilidade do cluster**"
      ],
      "metadata": {
        "id": "F9zuJQkCKhqB"
      }
    },
    {
      "cell_type": "code",
      "source": [
        "#dividindo a base de dados em três partes para validar a estabilidade\n",
        "set1, set2, set3 = np.array_split(values, 3)\n",
        "s1, dbs1, ch1 = clustering_algorithm(5, set1)\n",
        "s2, dbs2, ch2 = clustering_algorithm(5, set2)\n",
        "s3, dbs3, ch3 = clustering_algorithm(5, set3)\n",
        "print(s1, dbs1, ch1)\n",
        "print(s2, dbs2, ch2)\n",
        "print(s3, dbs3, ch3)#quanto mais similares os valores, melhor"
      ],
      "metadata": {
        "colab": {
          "base_uri": "https://localhost:8080/"
        },
        "id": "v29jqLtdJNgP",
        "outputId": "23678521-3f01-4102-8ea9-f26d98793cc0"
      },
      "execution_count": null,
      "outputs": [
        {
          "output_type": "stream",
          "name": "stdout",
          "text": [
            "0.3688486109603572 1.0588202114905991 1204.064049138465\n",
            "0.35406999696241026 1.1389554530299946 1194.945411949724\n",
            "0.3669405020596727 1.0989564562726915 1167.510700870205\n"
          ]
        }
      ]
    },
    {
      "cell_type": "markdown",
      "source": [
        "#**Visualizando os clusters**"
      ],
      "metadata": {
        "id": "rdXccU8iMoby"
      }
    },
    {
      "cell_type": "markdown",
      "source": [
        "**Gerando Gráficos**"
      ],
      "metadata": {
        "id": "jd3NSw9uMsr0"
      }
    },
    {
      "cell_type": "code",
      "source": [
        "#Gerando gráficos para Purchase e Payments\n",
        "import matplotlib.pyplot as plt\n",
        "plt.scatter(df['PURCHASES'], df['PAYMENTS'], c = labels, s=5, cmap='rainbow')\n",
        "plt.xlabel('Valor total pago')\n",
        "plt.ylabel('valor total comprado')\n",
        "plt.figure(figsize=(50,50))"
      ],
      "metadata": {
        "colab": {
          "base_uri": "https://localhost:8080/",
          "height": 314
        },
        "id": "DzapMlTVLYLc",
        "outputId": "3ce89949-0979-475f-ac9a-4604bfe8f0a0"
      },
      "execution_count": null,
      "outputs": [
        {
          "output_type": "execute_result",
          "data": {
            "text/plain": [
              "<Figure size 3600x3600 with 0 Axes>"
            ]
          },
          "metadata": {},
          "execution_count": 41
        },
        {
          "output_type": "display_data",
          "data": {
            "text/plain": [
              "<Figure size 432x288 with 1 Axes>"
            ],
            "image/png": "[encoded data removed]"
          },
          "metadata": {
            "needs_background": "light"
          }
        },
        {
          "output_type": "display_data",
          "data": {
            "text/plain": [
              "<Figure size 3600x3600 with 0 Axes>"
            ]
          },
          "metadata": {}
        }
      ]
    },
    {
      "cell_type": "code",
      "source": [
        "#import seaborn as sns\n",
        "#df['cluster'] = labels\n",
        "#sns.pairplot(df[0:], hue=\"cluster\")"
      ],
      "metadata": {
        "id": "8A8e2L4VOIUU"
      },
      "execution_count": null,
      "outputs": []
    },
    {
      "cell_type": "markdown",
      "source": [
        "#**Os valores dos atributos no cluster**"
      ],
      "metadata": {
        "id": "we6KL75vRjsj"
      }
    },
    {
      "cell_type": "code",
      "source": [
        "df.groupby('cluster').describe()"
      ],
      "metadata": {
        "colab": {
          "base_uri": "https://localhost:8080/",
          "height": 362
        },
        "id": "o7T4hwR3P-oL",
        "outputId": "7f22d272-9df4-4a50-ac6c-ee1bcdc5329f"
      },
      "execution_count": null,
      "outputs": [
        {
          "output_type": "execute_result",
          "data": {
            "text/plain": [
              "        BALANCE                                                    \\\n",
              "          count         mean          std        min          25%   \n",
              "cluster                                                             \n",
              "0        2649.0  3037.962543  2478.838161   6.824905  1256.612223   \n",
              "1        3278.0   443.992358   846.597972   0.000000    23.315538   \n",
              "2        1540.0  1142.222657  1664.035755   0.000000   211.566656   \n",
              "3        1072.0  1794.024195  1982.950586   0.000000   506.925348   \n",
              "4         411.0  1987.501586  1854.459156  70.794108  1018.958891   \n",
              "\n",
              "                                                BALANCE_FREQUENCY            \\\n",
              "                 50%          75%           max             count      mean   \n",
              "cluster                                                                       \n",
              "0        2174.018945  4223.867789  18495.558550            2649.0  0.963740   \n",
              "1          82.992153   411.193793   9630.367575            3278.0  0.774417   \n",
              "2         554.332740  1370.859355  19043.138560            1540.0  0.928053   \n",
              "3        1087.920500  2308.762488  14581.459140            1072.0  0.862131   \n",
              "4        1337.287314  2138.678431  11670.179850             411.0  0.989486   \n",
              "\n",
              "         ... MINIMUM_PAYMENTS               PRC_FULL_PAYMENT            \\\n",
              "         ...              75%           max            count      mean   \n",
              "cluster  ...                                                             \n",
              "0        ...      1330.593643   8345.641905           2649.0  0.001799   \n",
              "1        ...       248.800040   4483.503862           3278.0  0.246549   \n",
              "2        ...       524.184580  18621.013310           1540.0  0.278582   \n",
              "3        ...       884.718306  21235.065300           1072.0  0.117384   \n",
              "4        ...      7112.618584  76406.207520            411.0  0.019318   \n",
              "\n",
              "                                                      \n",
              "              std  min  25%       50%       75%  max  \n",
              "cluster                                               \n",
              "0        0.023260  0.0  0.0  0.000000  0.000000  0.6  \n",
              "1        0.346601  0.0  0.0  0.000000  0.444444  1.0  \n",
              "2        0.367203  0.0  0.0  0.083333  0.545455  1.0  \n",
              "3        0.186853  0.0  0.0  0.083333  0.142857  1.0  \n",
              "4        0.090901  0.0  0.0  0.000000  0.000000  1.0  \n",
              "\n",
              "[5 rows x 128 columns]"
            ],
            "text/html": [
              "\n",
              "  <div id=\"df-e3b5f5f8-0bbb-452a-8204-8d7dfe1449ec\">\n",
              "    <div class=\"colab-df-container\">\n",
              "      <div>\n",
              "<style scoped>\n",
              "    .dataframe tbody tr th:only-of-type {\n",
              "        vertical-align: middle;\n",
              "    }\n",
              "\n",
              "    .dataframe tbody tr th {\n",
              "        vertical-align: top;\n",
              "    }\n",
              "\n",
              "    .dataframe thead tr th {\n",
              "        text-align: left;\n",
              "    }\n",
              "\n",
              "    .dataframe thead tr:last-of-type th {\n",
              "        text-align: right;\n",
              "    }\n",
              "</style>\n",
              "<table border=\"1\" class=\"dataframe\">\n",
              "  <thead>\n",
              "    <tr>\n",
              "      <th></th>\n",
              "      <th colspan=\"8\" halign=\"left\">BALANCE</th>\n",
              "      <th colspan=\"2\" halign=\"left\">BALANCE_FREQUENCY</th>\n",
              "      <th>...</th>\n",
              "      <th colspan=\"2\" halign=\"left\">MINIMUM_PAYMENTS</th>\n",
              "      <th colspan=\"8\" halign=\"left\">PRC_FULL_PAYMENT</th>\n",
              "    </tr>\n",
              "    <tr>\n",
              "      <th></th>\n",
              "      <th>count</th>\n",
              "      <th>mean</th>\n",
              "      <th>std</th>\n",
              "      <th>min</th>\n",
              "      <th>25%</th>\n",
              "      <th>50%</th>\n",
              "      <th>75%</th>\n",
              "      <th>max</th>\n",
              "      <th>count</th>\n",
              "      <th>mean</th>\n",
              "      <th>...</th>\n",
              "      <th>75%</th>\n",
              "      <th>max</th>\n",
              "      <th>count</th>\n",
              "      <th>mean</th>\n",
              "      <th>std</th>\n",
              "      <th>min</th>\n",
              "      <th>25%</th>\n",
              "      <th>50%</th>\n",
              "      <th>75%</th>\n",
              "      <th>max</th>\n",
              "    </tr>\n",
              "    <tr>\n",
              "      <th>cluster</th>\n",
              "      <th></th>\n",
              "      <th></th>\n",
              "      <th></th>\n",
              "      <th></th>\n",
              "      <th></th>\n",
              "      <th></th>\n",
              "      <th></th>\n",
              "      <th></th>\n",
              "      <th></th>\n",
              "      <th></th>\n",
              "      <th></th>\n",
              "      <th></th>\n",
              "      <th></th>\n",
              "      <th></th>\n",
              "      <th></th>\n",
              "      <th></th>\n",
              "      <th></th>\n",
              "      <th></th>\n",
              "      <th></th>\n",
              "      <th></th>\n",
              "      <th></th>\n",
              "    </tr>\n",
              "  </thead>\n",
              "  <tbody>\n",
              "    <tr>\n",
              "      <th>0</th>\n",
              "      <td>2649.0</td>\n",
              "      <td>3037.962543</td>\n",
              "      <td>2478.838161</td>\n",
              "      <td>6.824905</td>\n",
              "      <td>1256.612223</td>\n",
              "      <td>2174.018945</td>\n",
              "      <td>4223.867789</td>\n",
              "      <td>18495.558550</td>\n",
              "      <td>2649.0</td>\n",
              "      <td>0.963740</td>\n",
              "      <td>...</td>\n",
              "      <td>1330.593643</td>\n",
              "      <td>8345.641905</td>\n",
              "      <td>2649.0</td>\n",
              "      <td>0.001799</td>\n",
              "      <td>0.023260</td>\n",
              "      <td>0.0</td>\n",
              "      <td>0.0</td>\n",
              "      <td>0.000000</td>\n",
              "      <td>0.000000</td>\n",
              "      <td>0.6</td>\n",
              "    </tr>\n",
              "    <tr>\n",
              "      <th>1</th>\n",
              "      <td>3278.0</td>\n",
              "      <td>443.992358</td>\n",
              "      <td>846.597972</td>\n",
              "      <td>0.000000</td>\n",
              "      <td>23.315538</td>\n",
              "      <td>82.992153</td>\n",
              "      <td>411.193793</td>\n",
              "      <td>9630.367575</td>\n",
              "      <td>3278.0</td>\n",
              "      <td>0.774417</td>\n",
              "      <td>...</td>\n",
              "      <td>248.800040</td>\n",
              "      <td>4483.503862</td>\n",
              "      <td>3278.0</td>\n",
              "      <td>0.246549</td>\n",
              "      <td>0.346601</td>\n",
              "      <td>0.0</td>\n",
              "      <td>0.0</td>\n",
              "      <td>0.000000</td>\n",
              "      <td>0.444444</td>\n",
              "      <td>1.0</td>\n",
              "    </tr>\n",
              "    <tr>\n",
              "      <th>2</th>\n",
              "      <td>1540.0</td>\n",
              "      <td>1142.222657</td>\n",
              "      <td>1664.035755</td>\n",
              "      <td>0.000000</td>\n",
              "      <td>211.566656</td>\n",
              "      <td>554.332740</td>\n",
              "      <td>1370.859355</td>\n",
              "      <td>19043.138560</td>\n",
              "      <td>1540.0</td>\n",
              "      <td>0.928053</td>\n",
              "      <td>...</td>\n",
              "      <td>524.184580</td>\n",
              "      <td>18621.013310</td>\n",
              "      <td>1540.0</td>\n",
              "      <td>0.278582</td>\n",
              "      <td>0.367203</td>\n",
              "      <td>0.0</td>\n",
              "      <td>0.0</td>\n",
              "      <td>0.083333</td>\n",
              "      <td>0.545455</td>\n",
              "      <td>1.0</td>\n",
              "    </tr>\n",
              "    <tr>\n",
              "      <th>3</th>\n",
              "      <td>1072.0</td>\n",
              "      <td>1794.024195</td>\n",
              "      <td>1982.950586</td>\n",
              "      <td>0.000000</td>\n",
              "      <td>506.925348</td>\n",
              "      <td>1087.920500</td>\n",
              "      <td>2308.762488</td>\n",
              "      <td>14581.459140</td>\n",
              "      <td>1072.0</td>\n",
              "      <td>0.862131</td>\n",
              "      <td>...</td>\n",
              "      <td>884.718306</td>\n",
              "      <td>21235.065300</td>\n",
              "      <td>1072.0</td>\n",
              "      <td>0.117384</td>\n",
              "      <td>0.186853</td>\n",
              "      <td>0.0</td>\n",
              "      <td>0.0</td>\n",
              "      <td>0.083333</td>\n",
              "      <td>0.142857</td>\n",
              "      <td>1.0</td>\n",
              "    </tr>\n",
              "    <tr>\n",
              "      <th>4</th>\n",
              "      <td>411.0</td>\n",
              "      <td>1987.501586</td>\n",
              "      <td>1854.459156</td>\n",
              "      <td>70.794108</td>\n",
              "      <td>1018.958891</td>\n",
              "      <td>1337.287314</td>\n",
              "      <td>2138.678431</td>\n",
              "      <td>11670.179850</td>\n",
              "      <td>411.0</td>\n",
              "      <td>0.989486</td>\n",
              "      <td>...</td>\n",
              "      <td>7112.618584</td>\n",
              "      <td>76406.207520</td>\n",
              "      <td>411.0</td>\n",
              "      <td>0.019318</td>\n",
              "      <td>0.090901</td>\n",
              "      <td>0.0</td>\n",
              "      <td>0.0</td>\n",
              "      <td>0.000000</td>\n",
              "      <td>0.000000</td>\n",
              "      <td>1.0</td>\n",
              "    </tr>\n",
              "  </tbody>\n",
              "</table>\n",
              "<p>5 rows × 128 columns</p>\n",
              "</div>\n",
              "      <button class=\"colab-df-convert\" onclick=\"convertToInteractive('df-e3b5f5f8-0bbb-452a-8204-8d7dfe1449ec')\"\n",
              "              title=\"Convert this dataframe to an interactive table.\"\n",
              "              style=\"display:none;\">\n",
              "        \n",
              "  <svg xmlns=\"http://www.w3.org/2000/svg\" height=\"24px\"viewBox=\"0 0 24 24\"\n",
              "       width=\"24px\">\n",
              "    <path d=\"M0 0h24v24H0V0z\" fill=\"none\"/>\n",
              "    <path d=\"M18.56 5.44l.94 2.06.94-2.06 2.06-.94-2.06-.94-.94-2.06-.94 2.06-2.06.94zm-11 1L8.5 8.5l.94-2.06 2.06-.94-2.06-.94L8.5 2.5l-.94 2.06-2.06.94zm10 10l.94 2.06.94-2.06 2.06-.94-2.06-.94-.94-2.06-.94 2.06-2.06.94z\"/><path d=\"M17.41 7.96l-1.37-1.37c-.4-.4-.92-.59-1.43-.59-.52 0-1.04.2-1.43.59L10.3 9.45l-7.72 7.72c-.78.78-.78 2.05 0 2.83L4 21.41c.39.39.9.59 1.41.59.51 0 1.02-.2 1.41-.59l7.78-7.78 2.81-2.81c.8-.78.8-2.07 0-2.86zM5.41 20L4 18.59l7.72-7.72 1.47 1.35L5.41 20z\"/>\n",
              "  </svg>\n",
              "      </button>\n",
              "      \n",
              "  <style>\n",
              "    .colab-df-container {\n",
              "      display:flex;\n",
              "      flex-wrap:wrap;\n",
              "      gap: 12px;\n",
              "    }\n",
              "\n",
              "    .colab-df-convert {\n",
              "      background-color: #E8F0FE;\n",
              "      border: none;\n",
              "      border-radius: 50%;\n",
              "      cursor: pointer;\n",
              "      display: none;\n",
              "      fill: #1967D2;\n",
              "      height: 32px;\n",
              "      padding: 0 0 0 0;\n",
              "      width: 32px;\n",
              "    }\n",
              "\n",
              "    .colab-df-convert:hover {\n",
              "      background-color: #E2EBFA;\n",
              "      box-shadow: 0px 1px 2px rgba(60, 64, 67, 0.3), 0px 1px 3px 1px rgba(60, 64, 67, 0.15);\n",
              "      fill: #174EA6;\n",
              "    }\n",
              "\n",
              "    [theme=dark] .colab-df-convert {\n",
              "      background-color: #3B4455;\n",
              "      fill: #D2E3FC;\n",
              "    }\n",
              "\n",
              "    [theme=dark] .colab-df-convert:hover {\n",
              "      background-color: #434B5C;\n",
              "      box-shadow: 0px 1px 3px 1px rgba(0, 0, 0, 0.15);\n",
              "      filter: drop-shadow(0px 1px 2px rgba(0, 0, 0, 0.3));\n",
              "      fill: #FFFFFF;\n",
              "    }\n",
              "  </style>\n",
              "\n",
              "      <script>\n",
              "        const buttonEl =\n",
              "          document.querySelector('#df-e3b5f5f8-0bbb-452a-8204-8d7dfe1449ec button.colab-df-convert');\n",
              "        buttonEl.style.display =\n",
              "          google.colab.kernel.accessAllowed ? 'block' : 'none';\n",
              "\n",
              "        async function convertToInteractive(key) {\n",
              "          const element = document.querySelector('#df-e3b5f5f8-0bbb-452a-8204-8d7dfe1449ec');\n",
              "          const dataTable =\n",
              "            await google.colab.kernel.invokeFunction('convertToInteractive',\n",
              "                                                     [key], {});\n",
              "          if (!dataTable) return;\n",
              "\n",
              "          const docLinkHtml = 'Like what you see? Visit the ' +\n",
              "            '<a target=\"_blank\" href=https://colab.research.google.com/notebooks/data_table.ipynb>data table notebook</a>'\n",
              "            + ' to learn more about interactive tables.';\n",
              "          element.innerHTML = '';\n",
              "          dataTable['output_type'] = 'display_data';\n",
              "          await google.colab.output.renderOutput(dataTable, element);\n",
              "          const docLink = document.createElement('div');\n",
              "          docLink.innerHTML = docLinkHtml;\n",
              "          element.appendChild(docLink);\n",
              "        }\n",
              "      </script>\n",
              "    </div>\n",
              "  </div>\n",
              "  "
            ]
          },
          "metadata": {},
          "execution_count": 49
        }
      ]
    },
    {
      "cell_type": "markdown",
      "source": [
        "**Analisando os valores**"
      ],
      "metadata": {
        "id": "YqJtluSPTDRO"
      }
    },
    {
      "cell_type": "code",
      "source": [
        "centroids = kmeans.cluster_centers_\n",
        "centroids"
      ],
      "metadata": {
        "colab": {
          "base_uri": "https://localhost:8080/"
        },
        "id": "GdShdIBvSSJi",
        "outputId": "01417df1-a68f-4e87-ad43-0a4f70d426b2"
      },
      "execution_count": null,
      "outputs": [
        {
          "output_type": "execute_result",
          "data": {
            "text/plain": [
              "array([[5.04263792e-01, 2.72194282e-04, 6.17808431e-02, 3.62269020e-02,\n",
              "        2.55756543e-02, 2.52903017e-01, 6.73170559e-05, 2.56975193e-05,\n",
              "        4.50651626e-05, 5.74388410e-05, 1.15687334e-03, 1.33194105e-03,\n",
              "        7.19174706e-01, 1.66205262e-01, 1.79245673e-01, 5.52303554e-07],\n",
              "       [6.91386971e-02, 2.30552524e-04, 1.21267798e-01, 4.80255998e-02,\n",
              "        7.33425496e-02, 2.43607736e-02, 1.72581896e-04, 3.37097813e-05,\n",
              "        1.40021986e-04, 7.93309218e-06, 1.24113667e-04, 2.86037895e-03,\n",
              "        9.43728649e-01, 1.53557708e-01, 5.68217245e-02, 7.57977264e-05],\n",
              "       [1.59699490e-01, 2.45649360e-04, 4.38116859e-01, 2.56325660e-01,\n",
              "        1.81962376e-01, 2.57889184e-02, 2.04826443e-04, 8.87914942e-05,\n",
              "        1.51162866e-04, 9.36296056e-06, 1.69350945e-04, 6.17145756e-03,\n",
              "        6.04336246e-01, 4.02584838e-01, 8.54128174e-02, 7.26645255e-05],\n",
              "       [2.35141479e-01, 2.16555293e-04, 6.03857074e-02, 3.44170171e-02,\n",
              "        2.59739049e-02, 4.00128071e-01, 5.26401668e-05, 2.04882397e-05,\n",
              "        3.51921361e-05, 6.54864556e-05, 1.57199032e-03, 1.12217156e-03,\n",
              "        5.35089146e-01, 5.98040052e-01, 1.04348171e-01, 2.77498236e-05],\n",
              "       [3.32918803e-01, 2.68423552e-04, 1.58240376e-01, 3.63059801e-02,\n",
              "        1.22319068e-01, 5.83557153e-02, 1.66754597e-04, 2.64938445e-05,\n",
              "        1.47063187e-04, 1.93217566e-05, 4.27934836e-04, 3.86197017e-03,\n",
              "        3.76718873e-01, 2.51861450e-01, 6.80311114e-01, 4.23993819e-06]])"
            ]
          },
          "metadata": {},
          "execution_count": 51
        }
      ]
    },
    {
      "cell_type": "code",
      "source": [
        "#analisando os atributos de acordo com a variância (queremos os que mais variam)\n",
        "max = len(centroids[0])\n",
        "for i in range(max):\n",
        "  print(df.columns.values[i], \"\\n{:.4f}\".format(centroids[:, i].var()))"
      ],
      "metadata": {
        "colab": {
          "base_uri": "https://localhost:8080/"
        },
        "id": "5F6XLWzGTOwV",
        "outputId": "91418ba4-7aa9-4a7d-a090-81cd59a0c6bb"
      },
      "execution_count": null,
      "outputs": [
        {
          "output_type": "stream",
          "name": "stdout",
          "text": [
            "BALANCE \n",
            "0.0224\n",
            "BALANCE_FREQUENCY \n",
            "0.0000\n",
            "PURCHASES \n",
            "0.0196\n",
            "ONEOFF_PURCHASES \n",
            "0.0076\n",
            "INSTALLMENTS_PURCHASES \n",
            "0.0036\n",
            "CASH_ADVANCE \n",
            "0.0225\n",
            "PURCHASES_FREQUENCY \n",
            "0.0000\n",
            "ONEOFF_PURCHASES_FREQUENCY \n",
            "0.0000\n",
            "PURCHASES_INSTALLMENTS_FREQUENCY \n",
            "0.0000\n",
            "CASH_ADVANCE_FREQUENCY \n",
            "0.0000\n",
            "CASH_ADVANCE_TRX \n",
            "0.0000\n",
            "PURCHASES_TRX \n",
            "0.0000\n",
            "CREDIT_LIMIT \n",
            "0.0360\n",
            "PAYMENTS \n",
            "0.0280\n",
            "MINIMUM_PAYMENTS \n",
            "0.0543\n",
            "PRC_FULL_PAYMENT \n",
            "0.0000\n"
          ]
        }
      ]
    },
    {
      "cell_type": "code",
      "source": [
        "#BALANCE, PURCHASES (compras), CASH_ADVANCE (saques), CREDIT_LIMIT (limite de crédito total), PAYMENTS(pagamentos)"
      ],
      "metadata": {
        "id": "SA-qUrufUsTK"
      },
      "execution_count": null,
      "outputs": []
    },
    {
      "cell_type": "code",
      "source": [
        "description = df.groupby('cluster')['BALANCE', 'PURCHASES', 'CASH_ADVANCE', 'CREDIT_LIMIT', 'PAYMENTS']\n",
        "n_clients = description.size()\n",
        "description = description.mean()\n",
        "description['n_clientes'] = n_clients\n",
        "description"
      ],
      "metadata": {
        "colab": {
          "base_uri": "https://localhost:8080/",
          "height": 292
        },
        "id": "HNobAM_KWlXW",
        "outputId": "6e41830b-ee9f-45f5-f6c2-78a6a9d3d0d2"
      },
      "execution_count": null,
      "outputs": [
        {
          "output_type": "stream",
          "name": "stderr",
          "text": [
            "/usr/local/lib/python3.7/dist-packages/ipykernel_launcher.py:1: FutureWarning: Indexing with multiple keys (implicitly converted to a tuple of keys) will be deprecated, use a list instead.\n",
            "  \"\"\"Entry point for launching an IPython kernel.\n"
          ]
        },
        {
          "output_type": "execute_result",
          "data": {
            "text/plain": [
              "             BALANCE    PURCHASES  CASH_ADVANCE  CREDIT_LIMIT     PAYMENTS  \\\n",
              "cluster                                                                      \n",
              "0        3037.962543   385.248630   1636.917210   4495.771989   968.890376   \n",
              "1         443.992358   629.345171    141.569301   5132.945933   814.477150   \n",
              "2        1142.222657  3268.886929    183.019398   4097.701397  3037.241495   \n",
              "3        1794.024195   475.494823   3270.246792   3976.372399  4709.556601   \n",
              "4        1987.501586   854.865815    421.129352   2227.737226  1336.238911   \n",
              "\n",
              "         n_clientes  \n",
              "cluster              \n",
              "0              2649  \n",
              "1              3278  \n",
              "2              1540  \n",
              "3              1072  \n",
              "4               411  "
            ],
            "text/html": [
              "\n",
              "  <div id=\"df-f0c8d4ac-aaf0-43ff-8737-84dcce6c6f5e\">\n",
              "    <div class=\"colab-df-container\">\n",
              "      <div>\n",
              "<style scoped>\n",
              "    .dataframe tbody tr th:only-of-type {\n",
              "        vertical-align: middle;\n",
              "    }\n",
              "\n",
              "    .dataframe tbody tr th {\n",
              "        vertical-align: top;\n",
              "    }\n",
              "\n",
              "    .dataframe thead th {\n",
              "        text-align: right;\n",
              "    }\n",
              "</style>\n",
              "<table border=\"1\" class=\"dataframe\">\n",
              "  <thead>\n",
              "    <tr style=\"text-align: right;\">\n",
              "      <th></th>\n",
              "      <th>BALANCE</th>\n",
              "      <th>PURCHASES</th>\n",
              "      <th>CASH_ADVANCE</th>\n",
              "      <th>CREDIT_LIMIT</th>\n",
              "      <th>PAYMENTS</th>\n",
              "      <th>n_clientes</th>\n",
              "    </tr>\n",
              "    <tr>\n",
              "      <th>cluster</th>\n",
              "      <th></th>\n",
              "      <th></th>\n",
              "      <th></th>\n",
              "      <th></th>\n",
              "      <th></th>\n",
              "      <th></th>\n",
              "    </tr>\n",
              "  </thead>\n",
              "  <tbody>\n",
              "    <tr>\n",
              "      <th>0</th>\n",
              "      <td>3037.962543</td>\n",
              "      <td>385.248630</td>\n",
              "      <td>1636.917210</td>\n",
              "      <td>4495.771989</td>\n",
              "      <td>968.890376</td>\n",
              "      <td>2649</td>\n",
              "    </tr>\n",
              "    <tr>\n",
              "      <th>1</th>\n",
              "      <td>443.992358</td>\n",
              "      <td>629.345171</td>\n",
              "      <td>141.569301</td>\n",
              "      <td>5132.945933</td>\n",
              "      <td>814.477150</td>\n",
              "      <td>3278</td>\n",
              "    </tr>\n",
              "    <tr>\n",
              "      <th>2</th>\n",
              "      <td>1142.222657</td>\n",
              "      <td>3268.886929</td>\n",
              "      <td>183.019398</td>\n",
              "      <td>4097.701397</td>\n",
              "      <td>3037.241495</td>\n",
              "      <td>1540</td>\n",
              "    </tr>\n",
              "    <tr>\n",
              "      <th>3</th>\n",
              "      <td>1794.024195</td>\n",
              "      <td>475.494823</td>\n",
              "      <td>3270.246792</td>\n",
              "      <td>3976.372399</td>\n",
              "      <td>4709.556601</td>\n",
              "      <td>1072</td>\n",
              "    </tr>\n",
              "    <tr>\n",
              "      <th>4</th>\n",
              "      <td>1987.501586</td>\n",
              "      <td>854.865815</td>\n",
              "      <td>421.129352</td>\n",
              "      <td>2227.737226</td>\n",
              "      <td>1336.238911</td>\n",
              "      <td>411</td>\n",
              "    </tr>\n",
              "  </tbody>\n",
              "</table>\n",
              "</div>\n",
              "      <button class=\"colab-df-convert\" onclick=\"convertToInteractive('df-f0c8d4ac-aaf0-43ff-8737-84dcce6c6f5e')\"\n",
              "              title=\"Convert this dataframe to an interactive table.\"\n",
              "              style=\"display:none;\">\n",
              "        \n",
              "  <svg xmlns=\"http://www.w3.org/2000/svg\" height=\"24px\"viewBox=\"0 0 24 24\"\n",
              "       width=\"24px\">\n",
              "    <path d=\"M0 0h24v24H0V0z\" fill=\"none\"/>\n",
              "    <path d=\"M18.56 5.44l.94 2.06.94-2.06 2.06-.94-2.06-.94-.94-2.06-.94 2.06-2.06.94zm-11 1L8.5 8.5l.94-2.06 2.06-.94-2.06-.94L8.5 2.5l-.94 2.06-2.06.94zm10 10l.94 2.06.94-2.06 2.06-.94-2.06-.94-.94-2.06-.94 2.06-2.06.94z\"/><path d=\"M17.41 7.96l-1.37-1.37c-.4-.4-.92-.59-1.43-.59-.52 0-1.04.2-1.43.59L10.3 9.45l-7.72 7.72c-.78.78-.78 2.05 0 2.83L4 21.41c.39.39.9.59 1.41.59.51 0 1.02-.2 1.41-.59l7.78-7.78 2.81-2.81c.8-.78.8-2.07 0-2.86zM5.41 20L4 18.59l7.72-7.72 1.47 1.35L5.41 20z\"/>\n",
              "  </svg>\n",
              "      </button>\n",
              "      \n",
              "  <style>\n",
              "    .colab-df-container {\n",
              "      display:flex;\n",
              "      flex-wrap:wrap;\n",
              "      gap: 12px;\n",
              "    }\n",
              "\n",
              "    .colab-df-convert {\n",
              "      background-color: #E8F0FE;\n",
              "      border: none;\n",
              "      border-radius: 50%;\n",
              "      cursor: pointer;\n",
              "      display: none;\n",
              "      fill: #1967D2;\n",
              "      height: 32px;\n",
              "      padding: 0 0 0 0;\n",
              "      width: 32px;\n",
              "    }\n",
              "\n",
              "    .colab-df-convert:hover {\n",
              "      background-color: #E2EBFA;\n",
              "      box-shadow: 0px 1px 2px rgba(60, 64, 67, 0.3), 0px 1px 3px 1px rgba(60, 64, 67, 0.15);\n",
              "      fill: #174EA6;\n",
              "    }\n",
              "\n",
              "    [theme=dark] .colab-df-convert {\n",
              "      background-color: #3B4455;\n",
              "      fill: #D2E3FC;\n",
              "    }\n",
              "\n",
              "    [theme=dark] .colab-df-convert:hover {\n",
              "      background-color: #434B5C;\n",
              "      box-shadow: 0px 1px 3px 1px rgba(0, 0, 0, 0.15);\n",
              "      filter: drop-shadow(0px 1px 2px rgba(0, 0, 0, 0.3));\n",
              "      fill: #FFFFFF;\n",
              "    }\n",
              "  </style>\n",
              "\n",
              "      <script>\n",
              "        const buttonEl =\n",
              "          document.querySelector('#df-f0c8d4ac-aaf0-43ff-8737-84dcce6c6f5e button.colab-df-convert');\n",
              "        buttonEl.style.display =\n",
              "          google.colab.kernel.accessAllowed ? 'block' : 'none';\n",
              "\n",
              "        async function convertToInteractive(key) {\n",
              "          const element = document.querySelector('#df-f0c8d4ac-aaf0-43ff-8737-84dcce6c6f5e');\n",
              "          const dataTable =\n",
              "            await google.colab.kernel.invokeFunction('convertToInteractive',\n",
              "                                                     [key], {});\n",
              "          if (!dataTable) return;\n",
              "\n",
              "          const docLinkHtml = 'Like what you see? Visit the ' +\n",
              "            '<a target=\"_blank\" href=https://colab.research.google.com/notebooks/data_table.ipynb>data table notebook</a>'\n",
              "            + ' to learn more about interactive tables.';\n",
              "          element.innerHTML = '';\n",
              "          dataTable['output_type'] = 'display_data';\n",
              "          await google.colab.output.renderOutput(dataTable, element);\n",
              "          const docLink = document.createElement('div');\n",
              "          docLink.innerHTML = docLinkHtml;\n",
              "          element.appendChild(docLink);\n",
              "        }\n",
              "      </script>\n",
              "    </div>\n",
              "  </div>\n",
              "  "
            ]
          },
          "metadata": {},
          "execution_count": 65
        }
      ]
    },
    {
      "cell_type": "markdown",
      "source": [
        "#**Interpretando os clusters**"
      ],
      "metadata": {
        "id": "mKrk_7PaYxKj"
      }
    },
    {
      "cell_type": "markdown",
      "source": [
        "CLUSTER 0: Clientes que mais gastam. O foco deles é o saque. Péssimos pagadores. Segunda maior quantidade de clientes</br>\n",
        "CLUSTER 1: Clientes que gastam pouco. E com o maior limite. Bons pagadores. Maior número de clientes </br>\n",
        "CLUSTER 2: Clientes que gastam muito com compras, Melhores pagadores </br>\n",
        "CLUSTER 3: Clientes que gastam mais com saques </br>\n",
        "CLUSTER 4: Clientes com o menor limite de crédito. Menor quantidade de clientes</br>"
      ],
      "metadata": {
        "id": "C6QNeGMfZRiw"
      }
    },
    {
      "cell_type": "code",
      "source": [
        "df.groupby('cluster')['PRC_FULL_PAYMENT'].describe() #Porcentagem média paga da fatura por cliente"
      ],
      "metadata": {
        "colab": {
          "base_uri": "https://localhost:8080/",
          "height": 238
        },
        "id": "qhZzUGxoW0dQ",
        "outputId": "b19e832c-69d4-4b94-a5e8-695c24ef53c9"
      },
      "execution_count": null,
      "outputs": [
        {
          "output_type": "execute_result",
          "data": {
            "text/plain": [
              "          count      mean       std  min  25%       50%       75%  max\n",
              "cluster                                                               \n",
              "0        2649.0  0.001799  0.023260  0.0  0.0  0.000000  0.000000  0.6\n",
              "1        3278.0  0.246549  0.346601  0.0  0.0  0.000000  0.444444  1.0\n",
              "2        1540.0  0.278582  0.367203  0.0  0.0  0.083333  0.545455  1.0\n",
              "3        1072.0  0.117384  0.186853  0.0  0.0  0.083333  0.142857  1.0\n",
              "4         411.0  0.019318  0.090901  0.0  0.0  0.000000  0.000000  1.0"
            ],
            "text/html": [
              "\n",
              "  <div id=\"df-415f032c-b36a-4ef6-bc0f-2c8b22d8ef34\">\n",
              "    <div class=\"colab-df-container\">\n",
              "      <div>\n",
              "<style scoped>\n",
              "    .dataframe tbody tr th:only-of-type {\n",
              "        vertical-align: middle;\n",
              "    }\n",
              "\n",
              "    .dataframe tbody tr th {\n",
              "        vertical-align: top;\n",
              "    }\n",
              "\n",
              "    .dataframe thead th {\n",
              "        text-align: right;\n",
              "    }\n",
              "</style>\n",
              "<table border=\"1\" class=\"dataframe\">\n",
              "  <thead>\n",
              "    <tr style=\"text-align: right;\">\n",
              "      <th></th>\n",
              "      <th>count</th>\n",
              "      <th>mean</th>\n",
              "      <th>std</th>\n",
              "      <th>min</th>\n",
              "      <th>25%</th>\n",
              "      <th>50%</th>\n",
              "      <th>75%</th>\n",
              "      <th>max</th>\n",
              "    </tr>\n",
              "    <tr>\n",
              "      <th>cluster</th>\n",
              "      <th></th>\n",
              "      <th></th>\n",
              "      <th></th>\n",
              "      <th></th>\n",
              "      <th></th>\n",
              "      <th></th>\n",
              "      <th></th>\n",
              "      <th></th>\n",
              "    </tr>\n",
              "  </thead>\n",
              "  <tbody>\n",
              "    <tr>\n",
              "      <th>0</th>\n",
              "      <td>2649.0</td>\n",
              "      <td>0.001799</td>\n",
              "      <td>0.023260</td>\n",
              "      <td>0.0</td>\n",
              "      <td>0.0</td>\n",
              "      <td>0.000000</td>\n",
              "      <td>0.000000</td>\n",
              "      <td>0.6</td>\n",
              "    </tr>\n",
              "    <tr>\n",
              "      <th>1</th>\n",
              "      <td>3278.0</td>\n",
              "      <td>0.246549</td>\n",
              "      <td>0.346601</td>\n",
              "      <td>0.0</td>\n",
              "      <td>0.0</td>\n",
              "      <td>0.000000</td>\n",
              "      <td>0.444444</td>\n",
              "      <td>1.0</td>\n",
              "    </tr>\n",
              "    <tr>\n",
              "      <th>2</th>\n",
              "      <td>1540.0</td>\n",
              "      <td>0.278582</td>\n",
              "      <td>0.367203</td>\n",
              "      <td>0.0</td>\n",
              "      <td>0.0</td>\n",
              "      <td>0.083333</td>\n",
              "      <td>0.545455</td>\n",
              "      <td>1.0</td>\n",
              "    </tr>\n",
              "    <tr>\n",
              "      <th>3</th>\n",
              "      <td>1072.0</td>\n",
              "      <td>0.117384</td>\n",
              "      <td>0.186853</td>\n",
              "      <td>0.0</td>\n",
              "      <td>0.0</td>\n",
              "      <td>0.083333</td>\n",
              "      <td>0.142857</td>\n",
              "      <td>1.0</td>\n",
              "    </tr>\n",
              "    <tr>\n",
              "      <th>4</th>\n",
              "      <td>411.0</td>\n",
              "      <td>0.019318</td>\n",
              "      <td>0.090901</td>\n",
              "      <td>0.0</td>\n",
              "      <td>0.0</td>\n",
              "      <td>0.000000</td>\n",
              "      <td>0.000000</td>\n",
              "      <td>1.0</td>\n",
              "    </tr>\n",
              "  </tbody>\n",
              "</table>\n",
              "</div>\n",
              "      <button class=\"colab-df-convert\" onclick=\"convertToInteractive('df-415f032c-b36a-4ef6-bc0f-2c8b22d8ef34')\"\n",
              "              title=\"Convert this dataframe to an interactive table.\"\n",
              "              style=\"display:none;\">\n",
              "        \n",
              "  <svg xmlns=\"http://www.w3.org/2000/svg\" height=\"24px\"viewBox=\"0 0 24 24\"\n",
              "       width=\"24px\">\n",
              "    <path d=\"M0 0h24v24H0V0z\" fill=\"none\"/>\n",
              "    <path d=\"M18.56 5.44l.94 2.06.94-2.06 2.06-.94-2.06-.94-.94-2.06-.94 2.06-2.06.94zm-11 1L8.5 8.5l.94-2.06 2.06-.94-2.06-.94L8.5 2.5l-.94 2.06-2.06.94zm10 10l.94 2.06.94-2.06 2.06-.94-2.06-.94-.94-2.06-.94 2.06-2.06.94z\"/><path d=\"M17.41 7.96l-1.37-1.37c-.4-.4-.92-.59-1.43-.59-.52 0-1.04.2-1.43.59L10.3 9.45l-7.72 7.72c-.78.78-.78 2.05 0 2.83L4 21.41c.39.39.9.59 1.41.59.51 0 1.02-.2 1.41-.59l7.78-7.78 2.81-2.81c.8-.78.8-2.07 0-2.86zM5.41 20L4 18.59l7.72-7.72 1.47 1.35L5.41 20z\"/>\n",
              "  </svg>\n",
              "      </button>\n",
              "      \n",
              "  <style>\n",
              "    .colab-df-container {\n",
              "      display:flex;\n",
              "      flex-wrap:wrap;\n",
              "      gap: 12px;\n",
              "    }\n",
              "\n",
              "    .colab-df-convert {\n",
              "      background-color: #E8F0FE;\n",
              "      border: none;\n",
              "      border-radius: 50%;\n",
              "      cursor: pointer;\n",
              "      display: none;\n",
              "      fill: #1967D2;\n",
              "      height: 32px;\n",
              "      padding: 0 0 0 0;\n",
              "      width: 32px;\n",
              "    }\n",
              "\n",
              "    .colab-df-convert:hover {\n",
              "      background-color: #E2EBFA;\n",
              "      box-shadow: 0px 1px 2px rgba(60, 64, 67, 0.3), 0px 1px 3px 1px rgba(60, 64, 67, 0.15);\n",
              "      fill: #174EA6;\n",
              "    }\n",
              "\n",
              "    [theme=dark] .colab-df-convert {\n",
              "      background-color: #3B4455;\n",
              "      fill: #D2E3FC;\n",
              "    }\n",
              "\n",
              "    [theme=dark] .colab-df-convert:hover {\n",
              "      background-color: #434B5C;\n",
              "      box-shadow: 0px 1px 3px 1px rgba(0, 0, 0, 0.15);\n",
              "      filter: drop-shadow(0px 1px 2px rgba(0, 0, 0, 0.3));\n",
              "      fill: #FFFFFF;\n",
              "    }\n",
              "  </style>\n",
              "\n",
              "      <script>\n",
              "        const buttonEl =\n",
              "          document.querySelector('#df-415f032c-b36a-4ef6-bc0f-2c8b22d8ef34 button.colab-df-convert');\n",
              "        buttonEl.style.display =\n",
              "          google.colab.kernel.accessAllowed ? 'block' : 'none';\n",
              "\n",
              "        async function convertToInteractive(key) {\n",
              "          const element = document.querySelector('#df-415f032c-b36a-4ef6-bc0f-2c8b22d8ef34');\n",
              "          const dataTable =\n",
              "            await google.colab.kernel.invokeFunction('convertToInteractive',\n",
              "                                                     [key], {});\n",
              "          if (!dataTable) return;\n",
              "\n",
              "          const docLinkHtml = 'Like what you see? Visit the ' +\n",
              "            '<a target=\"_blank\" href=https://colab.research.google.com/notebooks/data_table.ipynb>data table notebook</a>'\n",
              "            + ' to learn more about interactive tables.';\n",
              "          element.innerHTML = '';\n",
              "          dataTable['output_type'] = 'display_data';\n",
              "          await google.colab.output.renderOutput(dataTable, element);\n",
              "          const docLink = document.createElement('div');\n",
              "          docLink.innerHTML = docLinkHtml;\n",
              "          element.appendChild(docLink);\n",
              "        }\n",
              "      </script>\n",
              "    </div>\n",
              "  </div>\n",
              "  "
            ]
          },
          "metadata": {},
          "execution_count": 67
        }
      ]
    },
    {
      "cell_type": "code",
      "source": [
        "n_clientes_total = description['n_clientes'].sum()"
      ],
      "metadata": {
        "id": "QlmfALWDdmPQ"
      },
      "execution_count": null,
      "outputs": []
    },
    {
      "cell_type": "code",
      "source": [
        "n_clientes_cluster0 = description['n_clientes'][0]\n",
        "prc_clientes_cluster0 = (n_clientes_cluster0/n_clientes_total)*100\n",
        "prc_clientes_cluster0"
      ],
      "metadata": {
        "colab": {
          "base_uri": "https://localhost:8080/"
        },
        "id": "6TFohYMCfPvP",
        "outputId": "03dffdf2-706f-4d5e-b8b3-9a5fc019cf8c"
      },
      "execution_count": null,
      "outputs": [
        {
          "output_type": "execute_result",
          "data": {
            "text/plain": [
              "29.59776536312849"
            ]
          },
          "metadata": {},
          "execution_count": 72
        }
      ]
    },
    {
      "cell_type": "code",
      "source": [
        "n_clientes_cluster1 = description['n_clientes'][1]\n",
        "prc_clientes_cluster1 = (n_clientes_cluster1/n_clientes_total)*100\n",
        "prc_clientes_cluster1"
      ],
      "metadata": {
        "colab": {
          "base_uri": "https://localhost:8080/"
        },
        "id": "dPKzkC7ygaoG",
        "outputId": "3ab8fb10-7dd7-4823-a3f5-4d4c7de21049"
      },
      "execution_count": null,
      "outputs": [
        {
          "output_type": "execute_result",
          "data": {
            "text/plain": [
              "36.62569832402235"
            ]
          },
          "metadata": {},
          "execution_count": 74
        }
      ]
    },
    {
      "cell_type": "code",
      "source": [
        "#Pode aplicar alguma estratégia de negócio em algum(ns) dos grupos\n",
        "#Teste AB"
      ],
      "metadata": {
        "id": "heOMcIYpffml"
      },
      "execution_count": null,
      "outputs": []
    },
    {
      "cell_type": "code",
      "source": [],
      "metadata": {
        "id": "ytXv8IDigfKj"
      },
      "execution_count": null,
      "outputs": []
    }
  ]
}